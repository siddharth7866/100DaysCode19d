{
 "cells": [
  {
   "cell_type": "code",
   "execution_count": 3,
   "metadata": {},
   "outputs": [],
   "source": [
    "MENU = {\n",
    "    \"espresso\": {\n",
    "        \"ingredients\": {\n",
    "            \"water\": 50,\n",
    "            \"coffee\": 18,\n",
    "        },\n",
    "        \"cost\": 1.5,\n",
    "    },\n",
    "    \"latte\": {\n",
    "        \"ingredients\": {\n",
    "            \"water\": 200,\n",
    "            \"milk\": 150,\n",
    "            \"coffee\": 24,\n",
    "        },\n",
    "        \"cost\": 2.5,\n",
    "    },\n",
    "    \"cappuccino\": {\n",
    "        \"ingredients\": {\n",
    "            \"water\": 250,\n",
    "            \"milk\": 100,\n",
    "            \"coffee\": 24,\n",
    "        },\n",
    "        \"cost\": 3.0,\n",
    "    }\n",
    "}\n",
    "\n",
    "resources = {\n",
    "    \"water\": 300,\n",
    "    \"milk\": 200,\n",
    "    \"coffee\": 100,\n",
    "}\n",
    "\n",
    "\n",
    "\n"
   ]
  },
  {
   "cell_type": "code",
   "execution_count": 4,
   "metadata": {},
   "outputs": [
    {
     "name": "stdout",
     "output_type": "stream",
     "text": [
      "Enter the coffee of your choice espresso/latte/cappuccino cappuccino\n",
      "{'water': 50, 'milk': 200, 'coffee': 100}\n",
      "{'water': 50, 'milk': 100, 'coffee': 100}\n",
      "{'water': 50, 'milk': 100, 'coffee': 76}\n",
      "Enjoy your cappuccino\n",
      "{'water': 50, 'milk': 100, 'coffee': 76}\n"
     ]
    }
   ],
   "source": [
    "MENU = {\n",
    "    \"espresso\": {\n",
    "        \"ingredients\": {\n",
    "            \"water\": 50,\n",
    "            \"coffee\": 18,\n",
    "        },\n",
    "        \"cost\": 1.5,\n",
    "    },\n",
    "    \"latte\": {\n",
    "        \"ingredients\": {\n",
    "            \"water\": 200,\n",
    "            \"milk\": 150,\n",
    "            \"coffee\": 24,\n",
    "        },\n",
    "        \"cost\": 2.5,\n",
    "    },\n",
    "    \"cappuccino\": {\n",
    "        \"ingredients\": {\n",
    "            \"water\": 250,\n",
    "            \"milk\": 100,\n",
    "            \"coffee\": 24,\n",
    "        },\n",
    "        \"cost\": 3.0,\n",
    "    }\n",
    "}\n",
    "\n",
    "resources = {\n",
    "    \"water\": 300,\n",
    "    \"milk\": 200,\n",
    "    \"coffee\": 100,\n",
    "}\n",
    "\n",
    "\n",
    "def check_resource(D):\n",
    "    \n",
    "    for i in D:\n",
    "        \n",
    "        if D[i]>resources[i]:\n",
    "            print(f\"{i} is not sufficient for coffe making\")\n",
    "            return False\n",
    "    return True\n",
    "def make_coffee(choice,D):\n",
    "    for i in D:\n",
    "        resources[i]=resources[i]-D[i]\n",
    "        print(resources)\n",
    "    print(f\"Enjoy your {choice}\")\n",
    "        \n",
    "        \n",
    "choice=input(\"Enter the coffee of your choice espresso/latte/cappuccino \")\n",
    "sid=MENU[choice][\"ingredients\"]\n",
    "if check_resource(sid):\n",
    "    make_coffee(choice,sid)\n",
    "else:\n",
    "    print(\"sorry\")\n",
    "    \n",
    "print(resources)\n"
   ]
  },
  {
   "cell_type": "code",
   "execution_count": 2,
   "metadata": {},
   "outputs": [
    {
     "name": "stdout",
     "output_type": "stream",
     "text": [
      "water is less\n"
     ]
    }
   ],
   "source": [
    "MENU = {\n",
    "    \"espresso\": {\n",
    "        \"ingredients\": {\n",
    "            \"water\": 50,\n",
    "            \"coffee\": 18,\n",
    "        },\n",
    "        \"cost\": 1.5,\n",
    "    },\n",
    "    \"latte\": {\n",
    "        \"ingredients\": {\n",
    "            \"water\": 900,\n",
    "            \"milk\": 150,\n",
    "            \"coffee\": 24,\n",
    "        },\n",
    "        \"cost\": 2.5,\n",
    "    },\n",
    "    \"cappuccino\": {\n",
    "        \"ingredients\": {\n",
    "            \"water\": 440,\n",
    "            \"milk\": 100,\n",
    "            \"coffee\": 24,\n",
    "        },\n",
    "        \"cost\": 3.0,\n",
    "    }\n",
    "}\n",
    "\n",
    "resources = {\n",
    "    \"water\": 300,\n",
    "    \"milk\": 200,\n",
    "    \"coffee\": 100,\n",
    "}\n",
    "\n",
    "sid=MENU[\"latte\"][\"ingredients\"]\n",
    "for i in sid:\n",
    "    if sid[i]>resources[i]:\n",
    "        print(f\"{i} is less\")\n",
    "        break\n",
    "   \n",
    "    print(f\"{sid[i]}----Menu\")\n",
    "    print(f\"{resources[i]} ---- resources\")\n",
    "\n",
    "# def check_resource(D):\n",
    "    \n",
    "#     for i in D:\n",
    "        \n",
    "#         if D[i]>resources[i]:\n",
    "#             print(f\"{i} is not sufficient for coffe making\")\n",
    "#             print(D[i])\n",
    "#             print(resources[i])\n",
    "#             return False\n",
    "#     return True\n",
    "# choice=input(\"Enter the coffee of your choice espresso/latte/cappuccino \")\n",
    "# sid=MENU[\"cappuccino\"]\n",
    "# check_resource(sid[\"ingredients\"])"
   ]
  },
  {
   "cell_type": "code",
   "execution_count": 6,
   "metadata": {},
   "outputs": [],
   "source": [
    "def salary_compute(a):\n",
    "    b=(600000*a)/470000\n",
    "    print(b)"
   ]
  },
  {
   "cell_type": "code",
   "execution_count": 13,
   "metadata": {},
   "outputs": [
    {
     "name": "stdout",
     "output_type": "stream",
     "text": [
      "3191.4893617021276\n"
     ]
    }
   ],
   "source": [
    "salary_compute(2500)\n",
    "              "
   ]
  },
  {
   "cell_type": "code",
   "execution_count": 53,
   "metadata": {},
   "outputs": [
    {
     "name": "stdout",
     "output_type": "stream",
     "text": [
      "Enter the choice of your drink cappuccino,latte,espresso latte\n",
      "2.5\n"
     ]
    }
   ],
   "source": [
    "MENU = {\n",
    "    \"espresso\": {\n",
    "        \"ingredients\": {\n",
    "            \"water\": 50,\n",
    "            \"coffee\": 18,\n",
    "        },\n",
    "        \"cost\": 1.5,\n",
    "    },\n",
    "    \"latte\": {\n",
    "        \"ingredients\": {\n",
    "            \"water\": 200,\n",
    "            \"milk\": 150,\n",
    "            \"coffee\": 24,\n",
    "        },\n",
    "        \"cost\": 2.5,\n",
    "    },\n",
    "    \"cappuccino\": {\n",
    "        \"ingredients\": {\n",
    "            \"water\": 250,\n",
    "            \"milk\": 100,\n",
    "            \"coffee\": 24,\n",
    "        },\n",
    "        \"cost\": 3.0,\n",
    "    }\n",
    "}\n",
    "\n",
    "resources = {\n",
    "    \"water\": 300,\n",
    "    \"milk\": 200,\n",
    "    \"coffee\": 100,\n",
    "}\n",
    "\n",
    "user_input=input(\"Enter the choice of your drink cappuccino,latte,espresso \")\n",
    "# # drink=user_input[\"MENU\"]\n",
    "\n",
    "# drink=MENU[user_input]['cost']\n",
    "# print(drink)\n",
    "drink_cost=MENU[user_input]['cost']\n",
    "\n",
    "def take_money(drink_cost):\n",
    "    \n",
    "\n",
    "# def check_resource(drink):\n",
    "#     for i in drink:\n",
    "#         if drink[i]>resources[i]:\n",
    "#             print(\"Resource Not Ok\")\n",
    "#         else:\n",
    "#             print(\"Resource ok\")\n",
    "            \n",
    "# def make_coffe(drink):\n",
    "#     for i in drink:\n",
    "#         resources[i]=resources[i]-drink[i]\n",
    "#     print(resources)\n",
    "        \n",
    "# check_resource(drink)\n",
    "# make_coffe(drink)\n",
    "    "
   ]
  },
  {
   "cell_type": "code",
   "execution_count": 52,
   "metadata": {},
   "outputs": [
    {
     "name": "stdout",
     "output_type": "stream",
     "text": [
      "Enter the choice of your drink cappuccino,latte,espresso espresso\n",
      "{'water': 250, 'milk': 200, 'coffee': 82}\n",
      "here is your espresso, enjoy the drink\n"
     ]
    }
   ],
   "source": [
    "user_input=input(\"Enter the choice of your drink cappuccino,latte,espresso \")\n",
    "# drink=user_input[\"MENU\"]\n",
    "\n",
    "drink=MENU[user_input]['ingredients']\n",
    "# print(drink)\n",
    "\n",
    "def check_resource(drink):\n",
    "    for i in drink:\n",
    "        if drink[i]>resources[i]:\n",
    "            return False\n",
    "    return True\n",
    "            \n",
    "def make_coffe(drink):\n",
    "    for i in drink:\n",
    "        resources[i]=resources[i]-drink[i]\n",
    "    print(resources)\n",
    "        \n",
    "if check_resource(drink):\n",
    "    make_coffe(drink)\n",
    "    print(f\"here is your {user_input}, enjoy the drink\")\n",
    "else:\n",
    "    print(\"resource not sufficient\")\n",
    "        \n"
   ]
  },
  {
   "cell_type": "code",
   "execution_count": null,
   "metadata": {},
   "outputs": [],
   "source": [
    "def take_money()"
   ]
  },
  {
   "cell_type": "code",
   "execution_count": null,
   "metadata": {},
   "outputs": [],
   "source": []
  }
 ],
 "metadata": {
  "kernelspec": {
   "display_name": "Python 3",
   "language": "python",
   "name": "python3"
  },
  "language_info": {
   "codemirror_mode": {
    "name": "ipython",
    "version": 3
   },
   "file_extension": ".py",
   "mimetype": "text/x-python",
   "name": "python",
   "nbconvert_exporter": "python",
   "pygments_lexer": "ipython3",
   "version": "3.7.6"
  }
 },
 "nbformat": 4,
 "nbformat_minor": 4
}
