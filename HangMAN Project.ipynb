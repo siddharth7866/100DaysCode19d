{
 "cells": [
  {
   "cell_type": "code",
   "execution_count": null,
   "id": "ea15cf91",
   "metadata": {},
   "outputs": [],
   "source": [
    "# To create a hangman project that word guess problem:"
   ]
  },
  {
   "cell_type": "code",
   "execution_count": null,
   "id": "4c305f02",
   "metadata": {},
   "outputs": [],
   "source": [
    "import random\n",
    "packet=['mango','cat','cherry','dog']\n",
    "word=random.choice(packet)\n",
    "print(word)\n",
    "\n",
    "answer=[]\n",
    "for i in range(len(word)):\n",
    "        answer.append(\"_\")\n",
    "  \n",
    "\n",
    "    \n",
    "print(answer)\n",
    "     \n",
    "    \n",
    "\n",
    "# user=input(\"enter the word\")\n",
    "chances=int(len(word))\n",
    "while chances !=0:\n",
    "     \n",
    "    user=input(\"enter the word\")\n",
    "    for i in range(len(word)):\n",
    "        letter=word[i]\n",
    "        if letter==user:\n",
    "            answer[i]=letter\n",
    "            chances= chances-1\n",
    "            print(answer)\n",
    "        else:\n",
    "            pass\n",
    "        \n",
    "if chances==0:\n",
    "    print(\"Game UP\")\n",
    "else:\n",
    "    \n",
    "    \n",
    "\n",
    "print(answer)\n",
    "        \n",
    "        \n"
   ]
  },
  {
   "cell_type": "code",
   "execution_count": null,
   "id": "a32257f5",
   "metadata": {},
   "outputs": [],
   "source": [
    "import random\n",
    "packet=['mango','cat','cherry','dog']\n",
    "word=random.choice(packet)\n",
    "print(word)\n",
    "\n",
    "answer=[]\n",
    "for i in range(len(word)):\n",
    "        answer.append(\"_\")\n",
    "  \n",
    "\n",
    "    \n",
    "print(answer)\n",
    "     \n",
    "    \n",
    "a=answer.count(\"_\")\n",
    "\n",
    "while  a != 0:\n",
    "    user=input(\"enter the word\")\n",
    "    for i in range(len(word)):\n",
    "        letter=word[i]\n",
    "        if letter==user:\n",
    "            answer[i]=letter\n",
    "            print(answer)\n",
    "        else:\n",
    "            pass\n",
    "else:\n",
    "    print(\"Game Over\")\n",
    "\n",
    "\n",
    "print(answer)"
   ]
  },
  {
   "cell_type": "code",
   "execution_count": null,
   "id": "eca625cd",
   "metadata": {},
   "outputs": [],
   "source": [
    "a=\"siddj\"\n",
    "b=int(len(a))\n",
    "print(b)\n",
    "print(type(b))"
   ]
  },
  {
   "cell_type": "code",
   "execution_count": null,
   "id": "6beef023",
   "metadata": {},
   "outputs": [],
   "source": [
    "A=[\"_\",\"_\",\"s\"]\n",
    "A.count(\"_\")"
   ]
  },
  {
   "cell_type": "code",
   "execution_count": null,
   "id": "32061b89",
   "metadata": {},
   "outputs": [
    {
     "name": "stdout",
     "output_type": "stream",
     "text": [
      "10\n",
      "['_', '_', '_', '_', '_', '_', '_', '_', '_', '_']\n",
      "strawberry\n",
      "10\n"
     ]
    }
   ],
   "source": [
    "import random\n",
    "word_basket=['mango','banana','strawberry','litch']\n",
    "random_word=random.choice(word_basket)\n",
    "range_word=len(random_word)\n",
    "guess_word = []\n",
    "for i in  range(range_word):\n",
    "    guess_word.append(\"_\")\n",
    "print(guess_word.count(\"_\"))\n",
    "\n",
    "print(guess_word)\n",
    "    \n",
    "print(random_word)\n",
    "spaces_count=guess_word.count(\"_\")\n",
    "machine=False\n",
    "while machine == False:\n",
    "    if spaces_count==0:\n",
    "        machine=True\n",
    "    else:\n",
    "        machine=False\n",
    "    user_input=input(\"enter the word\")\n",
    "    for i in range(range_word):\n",
    "        letter=random_word[i]\n",
    "        if letter==user_input:\n",
    "            guess_word[i]=letter\n",
    "            print(guess_word)\n",
    "        else:\n",
    "            pass\n",
    "    \n",
    "\n",
    "\n",
    "\n",
    "\n",
    "if spaces_count==0:\n",
    "    machine=True\n",
    "else:\n",
    "    machine=False\n",
    "    \n",
    "\n",
    "\n"
   ]
  },
  {
   "cell_type": "code",
   "execution_count": 1,
   "id": "2b601d33",
   "metadata": {},
   "outputs": [
    {
     "name": "stdout",
     "output_type": "stream",
     "text": [
      "5\n",
      "<class 'int'>\n"
     ]
    }
   ],
   "source": [
    "guess_word=['_', '_', '_', '_', '_']\n",
    "spaces_count=guess_word.count(\"_\")\n",
    "print(spaces_count)\n",
    "print(type(spaces_count))"
   ]
  },
  {
   "cell_type": "code",
   "execution_count": null,
   "id": "31b6168d",
   "metadata": {},
   "outputs": [],
   "source": [
    "import random\n",
    "word_basket=['mango','banana','strawberry','litch']\n",
    "random_word=random.choice(word_basket)\n",
    "range_word=len(random_word)\n",
    "guess_word = []\n",
    "for i in  range(range_word):\n",
    "    guess_word.append(\"_\")\n",
    "print(guess_word.count(\"_\"))\n",
    "\n",
    "print(guess_word)\n",
    "    \n",
    "print(random_word)\n",
    "# spaces_count=guess_word.count(\"_\")\n",
    "machine=False\n",
    "while machine == False:\n",
    "    a=guess_word.count(\"_\")\n",
    "    print(a)\n",
    "    if a == 0:\n",
    "        machine =True\n",
    "    else:\n",
    "        machine=False\n",
    "    \n",
    "    user_input=input(\"enter the word\")\n",
    "    for i in range(range_word):\n",
    "        letter=random_word[i]\n",
    "        if letter==user_input:\n",
    "            guess_word[i]=letter\n",
    "            print(guess_word)\n",
    "        else:\n",
    "            pass\n",
    "    \n",
    "\n",
    "print(\"Good Job Siddharth\")"
   ]
  }
 ],
 "metadata": {
  "kernelspec": {
   "display_name": "Python 3 (ipykernel)",
   "language": "python",
   "name": "python3"
  },
  "language_info": {
   "codemirror_mode": {
    "name": "ipython",
    "version": 3
   },
   "file_extension": ".py",
   "mimetype": "text/x-python",
   "name": "python",
   "nbconvert_exporter": "python",
   "pygments_lexer": "ipython3",
   "version": "3.9.13"
  }
 },
 "nbformat": 4,
 "nbformat_minor": 5
}
