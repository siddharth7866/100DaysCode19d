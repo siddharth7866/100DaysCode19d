{
 "cells": [
  {
   "cell_type": "code",
   "execution_count": null,
   "id": "e812d144",
   "metadata": {},
   "outputs": [],
   "source": [
    "# Wap to exchange the values between two variables:\n",
    "a=input(\"a:\")\n",
    "b=input(\"b:\")\n",
    "print(a,b)\n",
    "c=b\n",
    "b=a\n",
    "a=c\n",
    "print(f\"The value of a is {a} and value of b is {b}\")"
   ]
  },
  {
   "cell_type": "code",
   "execution_count": null,
   "id": "c60a1841",
   "metadata": {},
   "outputs": [],
   "source": [
    "# Wap to generate band name for you.\n",
    "print(\"Welcome To the band generator\")\n",
    "city=input(\"What's the name of city you grew up in?\\n\")\n",
    "pet=input(\"What is the name of your pet \\n\")\n",
    "print(f\"The name of your band will be {city} {pet}\\n\")"
   ]
  },
  {
   "cell_type": "code",
   "execution_count": null,
   "id": "21a83303",
   "metadata": {},
   "outputs": [],
   "source": []
  },
  {
   "cell_type": "code",
   "execution_count": null,
   "id": "435eec4e",
   "metadata": {},
   "outputs": [],
   "source": [
    "# WAP for calculating bill which has to be shared by you and your friend\n",
    "print(\"welcome To the tip calculator\")\n",
    "bill=int(input(\"what was the total amount of bill\"))\n",
    "number=int(input(\"How many total number of people are there\"))\n",
    "tip=int(input(\"what is the tip percentage\"))\n",
    "amount=[bill+bill*(tip/100)]\n",
    "print(f\"The amount to be paid by per person is {amount}\")"
   ]
  },
  {
   "cell_type": "code",
   "execution_count": null,
   "id": "527654fb",
   "metadata": {},
   "outputs": [],
   "source": [
    "A=\"hello\""
   ]
  },
  {
   "cell_type": "code",
   "execution_count": null,
   "id": "b8445131",
   "metadata": {},
   "outputs": [],
   "source": [
    "A[1]"
   ]
  },
  {
   "cell_type": "code",
   "execution_count": null,
   "id": "c4cee580",
   "metadata": {},
   "outputs": [],
   "source": [
    "print(1_2_3+1)"
   ]
  },
  {
   "cell_type": "code",
   "execution_count": null,
   "id": "72539e33",
   "metadata": {},
   "outputs": [],
   "source": [
    "a=123_345\n",
    "b=456_789\n",
    "c=a+b\n",
    "print(c)"
   ]
  },
  {
   "cell_type": "code",
   "execution_count": null,
   "id": "d1eabf05",
   "metadata": {},
   "outputs": [],
   "source": [
    "#WAP To print the sum of two digit number\n",
    "print(\"welcome to Digit Addition of Numbers:\")\n",
    "A=input(\"enter two dogit number\")\n",
    "A1=int(A[0])\n",
    "A2=int(A[1])\n",
    "B=A1+A2\n",
    "print(f\"The sum of the two digit number is {B}\")\n"
   ]
  },
  {
   "cell_type": "code",
   "execution_count": null,
   "id": "b9b96659",
   "metadata": {},
   "outputs": [],
   "source": [
    "# WAP for calculating the BMI\n",
    "height=float(input(\"enter your height\"))\n",
    "weight=int(input(\"enter yoour weight\"))\n",
    "BMI=int(weight/(height)**2)\n",
    "print(f\"Your BMI is {BMI}\")"
   ]
  },
  {
   "cell_type": "code",
   "execution_count": null,
   "id": "944dc210",
   "metadata": {},
   "outputs": [],
   "source": [
    "height=float(input(\"enter your height in meters :\"))\n",
    "weight=int(input(\"enter yoour weight:\"))\n",
    "BMI=int(weight/(height)**2)\n",
    "print(f\"Your BMI is {BMI}\")"
   ]
  },
  {
   "cell_type": "code",
   "execution_count": null,
   "id": "7cc9a71a",
   "metadata": {},
   "outputs": [],
   "source": [
    "# Wap to calculate the numbers of days,weeks and years left for your life.\n",
    "age=int(input(\"what is your age:\\n\"))\n",
    "year=90-age\n",
    "month=year*12\n",
    "days=365*year\n",
    "weeks=52*year\n",
    "print(f\"You have {days} days,{weeks} weeks and {month} months left.\")"
   ]
  },
  {
   "cell_type": "code",
   "execution_count": null,
   "id": "d86d1e3b",
   "metadata": {},
   "outputs": [],
   "source": [
    "# Comparison Opertor\n",
    "# 1.>  greater than\n",
    "# 2.< less than\n",
    "# 3.>= greater than equal to\n",
    "# 4. <= less than equal to\n",
    "# 5. == equal to"
   ]
  },
  {
   "cell_type": "code",
   "execution_count": null,
   "id": "a319195c",
   "metadata": {},
   "outputs": [],
   "source": [
    "# WAP to check even or odd number\n",
    "number=int(input(\"Which number do you want to check?\"))\n",
    "if number%2 ==0:\n",
    "    print(f\"The input number {number} is even!\")\n",
    "else:\n",
    "    print(f\"The input number {number} is odd!\")\n",
    "    "
   ]
  },
  {
   "cell_type": "code",
   "execution_count": null,
   "id": "0fbc4378",
   "metadata": {},
   "outputs": [],
   "source": [
    "# WAP for interacting BMI measurement.\n",
    "weight=float(input(\"Please enter your weight\"))\n",
    "height=float(input(\"Please enter your height\"))\n",
    "BMI=int(weight/height**2)\n",
    "\n",
    "if BMI < 18.5:\n",
    "    print(f\"Your BMI is {BMI} and you are underweight\")\n",
    "elif  25 > BMI > 18.5:\n",
    "    print(f\"Your BMI is {BMI} and you have a normal weight\")\n",
    "elif  30 > BMI > 25:\n",
    "    print(f\"Your BMI is {BMI} and you have overweight\")\n",
    "elif  35 > BMI > 30:\n",
    "    print(f\"Your BMI is {BMI} and you are obese\")\n",
    "else:\n",
    "    print(f\"Your BMI is {BMI} and you are clinically obese\")\n",
    "    \n",
    "    \n",
    "    \n"
   ]
  },
  {
   "cell_type": "code",
   "execution_count": null,
   "id": "642c32c2",
   "metadata": {},
   "outputs": [],
   "source": [
    "# WAP to check a given year is leap year or not\n",
    "year=int(input(\"Which year do you want to check for a leap year? \"))\n",
    "\n",
    "if year % 4 ==0:\n",
    "    if year % 100 == 0:\n",
    "        if year % 400 == 0:\n",
    "            print(f\"This year that {year} is leap year\")\n",
    "        else:\n",
    "            print(f\"This year that {year} is  not leap year\")\n",
    "    else:\n",
    "        print(f\"This year that {year} is leap year\")\n",
    "else:\n",
    "    print(f\"This year that {year} is not leap year\")\n",
    "    \n"
   ]
  },
  {
   "cell_type": "code",
   "execution_count": null,
   "id": "4b4f207e",
   "metadata": {},
   "outputs": [],
   "source": [
    "# WAP for pizza delivery based on size and toppings\n",
    "print(\"Welcome to the python pizza delivery! \\n\")\n",
    "size=input(\"Please select your size of pizza that S,M,L \\n\")\n",
    "pepperoni=input(\"Do you want pepperoni Yes/NO! \\n \")\n",
    "cheeze=input(\"do you want extra cheese Yes/NO \\n\")\n",
    "\n",
    "if size==\"S\":\n",
    "    Bill=15\n",
    "    if pepperoni==\"Yes\":\n",
    "        Bill +=2\n",
    "    \n",
    "    if cheeze==\"Yes\":\n",
    "        Bill+=1\n",
    "    print(f\"Bill for small pizza is {Bill}\")\n",
    "elif size==\"M\":\n",
    "    Bill=20\n",
    "    if pepperoni==\"Yes\":\n",
    "        Bill +=3\n",
    "    if cheeze==\"Yes\":\n",
    "        Bill+=1\n",
    "    print(f\"Bill for Medium pizza is {Bill}\")\n",
    "else:\n",
    "    Bill=25\n",
    "    if pepperoni==\"Yes\":\n",
    "        Bill +=3\n",
    "    \n",
    "    if cheeze==\"Yes\":\n",
    "        Bill+=1\n",
    "    print(f\"Bill for Large pizza is {Bill}\")\n",
    "    \n",
    "    \n",
    "\n",
    "    \n",
    "    \n",
    "    "
   ]
  },
  {
   "cell_type": "code",
   "execution_count": null,
   "id": "de127136",
   "metadata": {},
   "outputs": [],
   "source": [
    "def sid():\n",
    "    import requests\n",
    "    parameters={\n",
    "        \"amount\":10,\n",
    "        \"type\":\"boolean\"\n",
    "    }\n",
    "    response=requests.get(\"https://opentdb.com/api.php\",params=parameters)\n",
    "    response.raise_for_status()\n",
    "    data=response.json()\n",
    "    print(data)\n"
   ]
  },
  {
   "cell_type": "code",
   "execution_count": null,
   "id": "9cf72eb2",
   "metadata": {},
   "outputs": [],
   "source": [
    "sid()"
   ]
  },
  {
   "cell_type": "code",
   "execution_count": null,
   "id": "9c26290e",
   "metadata": {},
   "outputs": [],
   "source": [
    "# Python Regular expression\n",
    "\n",
    "import re\n"
   ]
  },
  {
   "cell_type": "code",
   "execution_count": null,
   "id": "6b0acd2d",
   "metadata": {},
   "outputs": [],
   "source": [
    "text=\"My phone is kept there\"\n",
    "match='phone'"
   ]
  },
  {
   "cell_type": "code",
   "execution_count": null,
   "id": "fe92a756",
   "metadata": {},
   "outputs": [],
   "source": [
    "re.search(match,text)"
   ]
  },
  {
   "cell_type": "code",
   "execution_count": null,
   "id": "a4c3daf7",
   "metadata": {},
   "outputs": [],
   "source": [
    "text=\"My phone number is 9016502769\"\n",
    "match='9016502769'\n",
    "sid=re.search(r'\\d\\d\\d\\d\\d\\d\\d\\d\\d\\d',text)\n",
    "a=sid.group()\n",
    "b=int(a)\n",
    "print(b)"
   ]
  },
  {
   "cell_type": "raw",
   "id": "fff8028a",
   "metadata": {},
   "source": [
    "# \tA digit\tfile_\\d\\d\tfile_25\n",
    "# \\w\tAlphanumeric\t\\w-\\w\\w\\w\tA-b_1\n",
    "# \\s\tWhite space\ta\\sb\\sc\ta b c\n",
    "# \\D\tA non digit\t\\D\\D\\D\tABC\n",
    "# \\W\tNon-alphanumeric\t\\W\\W\\W\\W\\W\t*-+=)\n",
    "# \\S\tNon-whitespace\t\\S\\S\\S\\S\tYoyo"
   ]
  },
  {
   "cell_type": "code",
   "execution_count": null,
   "id": "42377787",
   "metadata": {},
   "outputs": [],
   "source": [
    "text=\"My phone number is 9415389022\"\n",
    "match='9016502769'\n",
    "sid=re.search(r'\\d{10}',text)\n",
    "a=sid.group()\n",
    "b=int(a)\n",
    "print(b) "
   ]
  },
  {
   "cell_type": "code",
   "execution_count": null,
   "id": "e014a79a",
   "metadata": {},
   "outputs": [],
   "source": [
    "#  (\\d+)[^,]\n",
    "    \n",
    "    \n",
    "    \n",
    "#     Pattern for comman seperated numbers"
   ]
  },
  {
   "cell_type": "code",
   "execution_count": null,
   "id": "5f3b1677",
   "metadata": {},
   "outputs": [],
   "source": [
    "# Day 30 Try except and finally\n",
    "try:\n",
    "    a=int(input(\"number 1 \"))\n",
    "    b=int(input(\"number 2 \"))\n",
    "    c=a+b\n",
    "    print(c)\n",
    "except:\n",
    "    print(\"give me some time to check\")\n",
    "else:\n",
    "    print(f\" \")"
   ]
  },
  {
   "cell_type": "code",
   "execution_count": null,
   "id": "9013a364",
   "metadata": {},
   "outputs": [],
   "source": [
    "a=int(input(\"number 1 \"))\n",
    "b=int(input(\"number 2 \"))\n",
    "c=a+b\n",
    "print(c)"
   ]
  },
  {
   "cell_type": "code",
   "execution_count": null,
   "id": "db94f1b9",
   "metadata": {},
   "outputs": [],
   "source": [
    "fruits=[\"Apple\",\"Pear\",\"Organe\"]\n",
    "def make_pie(index):\n",
    "    try:\n",
    "        fruit=fruits[index]\n",
    "    except IndexError:\n",
    "        print(\"ApplePie\")\n",
    "    else:\n",
    "        print(fruit + \" \"+\"pie\")\n",
    "    finally:\n",
    "        print(\"Thanks For visiting the shop\")\n"
   ]
  },
  {
   "cell_type": "code",
   "execution_count": null,
   "id": "8a528004",
   "metadata": {},
   "outputs": [],
   "source": [
    "make_pie(2)"
   ]
  },
  {
   "cell_type": "code",
   "execution_count": null,
   "id": "f5be4a4e",
   "metadata": {},
   "outputs": [],
   "source": [
    "facebook_posts=[\n",
    "    {'likes':21,'comment':2},\n",
    "    {'likes':22,'comment':3,'shares':3},\n",
    "    {'likes':23,'comment':4},\n",
    "    {'likes':21,'comment':33},\n",
    "    {'comments':4,'shares':7}\n",
    "    \n",
    "]\n",
    "total_likes=0\n",
    "for post in facebook_posts:\n",
    "    try:\n",
    "        total_likes=total_likes+post['likes']\n",
    "    except KeyError:\n",
    "        pass\n",
    "        \n",
    "\n",
    "\n",
    "print(total_likes)\n",
    "\n",
    "\n",
    "    \n",
    "      \n",
    "    \n"
   ]
  },
  {
   "cell_type": "code",
   "execution_count": null,
   "id": "5c61582f",
   "metadata": {},
   "outputs": [],
   "source": [
    "a={'name1':\"siddharth\",\n",
    "    'name':\"vishen\",\n",
    "     }"
   ]
  },
  {
   "cell_type": "code",
   "execution_count": null,
   "id": "2c0062d9",
   "metadata": {},
   "outputs": [],
   "source": [
    "a['name1']"
   ]
  },
  {
   "cell_type": "code",
   "execution_count": null,
   "id": "e3dda834",
   "metadata": {},
   "outputs": [],
   "source": [
    "# Three Types of Jason:\n",
    "#     1.json.dump()---write\n",
    "#     2.json.load()-----Read\n",
    "#     3.json.update()-----Update"
   ]
  },
  {
   "cell_type": "code",
   "execution_count": null,
   "id": "3574356c",
   "metadata": {},
   "outputs": [],
   "source": [
    "import smtplib\n",
    "\n",
    "my_email = \"rajat.riyon@gmail.com\"\n",
    "password = \"yurapbylvodeiyda\"\n",
    "\n",
    "\n",
    "connection = smtplib.SMTP(\"smtp.gmail.com\")\n",
    "\n",
    "connection.starttls()\n",
    "connection.login(user = my_email , password=password)\n",
    "connection.sendmail(from_addr = my_email , to_addrs=\"meera.riyon@yahoo.com\", msg=\"hello\")\n",
    "\n",
    "connection.close()"
   ]
  },
  {
   "cell_type": "code",
   "execution_count": null,
   "id": "7d881250",
   "metadata": {},
   "outputs": [],
   "source": [
    "import smtplib\n",
    "\n",
    "my_email = \"rajat.riyon@gmail.com\"\n",
    "password = \"yurapbylvodeiyda\"\n",
    "\n",
    "\n",
    "connection = smtplib.SMTP(\"smtp.gmail.com\")\n",
    "\n",
    "connection.starttls()\n",
    "connection.login(user = my_email , password=password)\n",
    "connection.sendmail(from_addr = my_email , to_addrs=\"meera.riyon@yahoo.com\", msg=\"hello\")\n",
    "\n",
    "connection.close()"
   ]
  },
  {
   "cell_type": "code",
   "execution_count": null,
   "id": "cfb3c2e0",
   "metadata": {},
   "outputs": [],
   "source": [
    "# Code To sent from may email to any other mail\n",
    "\n",
    "import smtplib\n",
    "\n",
    "my_email = \"rajat.riyon@gmail.com\"\n",
    "password = \"yurapbylvodeiyda\"\n",
    "\n",
    "\n",
    "connection = smtplib.SMTP(\"smtp.gmail.com\",port=587)\n",
    "\n",
    "connection.starttls()\n",
    "connection.login(user = my_email , password=password)\n",
    "connection.sendmail(from_addr = my_email , to_addrs=\"meera.riyon@yahoo.com\", msg=\"hello\")\n",
    "\n",
    "connection.close()"
   ]
  },
  {
   "cell_type": "code",
   "execution_count": null,
   "id": "a30fd36a",
   "metadata": {},
   "outputs": [],
   "source": [
    "# Date Time Module\n",
    "\n",
    "import datetime as dt\n",
    "now=dt.datetime.now()\n",
    "print(now)"
   ]
  },
  {
   "cell_type": "code",
   "execution_count": null,
   "id": "15f4d64f",
   "metadata": {},
   "outputs": [],
   "source": [
    "import datetime as dt\n",
    "now=dt.datetime.now()\n",
    "sid=now.month\n",
    "print(sid)\n",
    "    "
   ]
  },
  {
   "cell_type": "code",
   "execution_count": null,
   "id": "e6044414",
   "metadata": {},
   "outputs": [],
   "source": [
    "import smtplib\n",
    "\n",
    "import datetime as dt\n",
    "now=dt.datetime.now()\n",
    "sid=now.day\n",
    "# print(sid)\n",
    "\n",
    "my_email = \"rajat.riyon@gmail.com\"\n",
    "password = \"yurapbylvodeiyda\"\n",
    "\n",
    "\n",
    "connection = smtplib.SMTP(\"smtp.gmail.com\",port=587)\n",
    "\n",
    "connection.starttls()\n",
    "connection.login(user = my_email , password=password)\n",
    "connection.sendmail(from_addr = my_email , to_addrs=\"meera.riyon@yahoo.com\", msg=\"hello\")"
   ]
  },
  {
   "cell_type": "code",
   "execution_count": null,
   "id": "c21f7f9e",
   "metadata": {},
   "outputs": [],
   "source": [
    "import datetime as dt\n",
    "import smtplib\n",
    "now=dt.datetime.now()\n",
    "sid=now.day\n",
    "if sid==1:\n",
    "    print(\"Monday\")\n",
    "    my_email = \"rajat.riyon@gmail.com\"\n",
    "    password = \"yurapbylvodeiyda\"\n",
    "\n",
    "\n",
    "    connection = smtplib.SMTP(\"smtp.gmail.com\",port=587)\n",
    "\n",
    "    connection.starttls()\n",
    "    connection.login(user = my_email , password=password)\n",
    "    connection.sendmail(from_addr = my_email , to_addrs=\"meera.riyon@yahoo.com\", msg=\"hello\")\n",
    "\n"
   ]
  },
  {
   "cell_type": "code",
   "execution_count": null,
   "id": "32232518",
   "metadata": {},
   "outputs": [],
   "source": [
    "import datetime as dt\n",
    "now=dt.datetime.now()\n",
    "sid=now.weekday()\n",
    "print(sid)"
   ]
  },
  {
   "cell_type": "code",
   "execution_count": null,
   "id": "1c5d4370",
   "metadata": {},
   "outputs": [],
   "source": [
    "# Day 24 File Directories and Paths\n",
    "files = open(\"quotes.txt\")\n",
    "contents = files.read()\n",
    "print(contents)\n",
    "files.close()"
   ]
  },
  {
   "cell_type": "code",
   "execution_count": null,
   "id": "2cf9035a",
   "metadata": {},
   "outputs": [],
   "source": [
    "import requests\n",
    "response=requests.get('https://api.kanye.rest/')\n",
    "data=response.json()\n",
    "value=data['quote']\n",
    "print(value)"
   ]
  },
  {
   "cell_type": "code",
   "execution_count": null,
   "id": "d5fe31df",
   "metadata": {},
   "outputs": [],
   "source": [
    "import requests\n",
    "my_lat=23.001320\n",
    "my_log=72.565740\n",
    "parameter={\n",
    "    \"lat\":my_lat,\n",
    "    \"lng\":my_log,\n",
    "    \n",
    "}\n",
    "response=requests.get('https://api.sunrise-sunset.org/json',params=parameter)\n",
    "data=response.json()\n",
    "print(data)\n"
   ]
  },
  {
   "cell_type": "code",
   "execution_count": null,
   "id": "d1e85e71",
   "metadata": {},
   "outputs": [],
   "source": [
    "#Syntax for custom code\n",
    "def FunctionName(request):\n",
    "    #Mandatory syntax\n",
    "    try:\n",
    "        status = 200\n",
    "        message = 'success'\n",
    "        resp_data = {}\n",
    "        request = json.loads(request.body.decode(encoding=\"utf-8\"))\n",
    "        #declare variable to fetch data from request body\n",
    "        data = request.get(\"Data\",\"\") #\n",
    "        '''\n",
    "        Function processing\n",
    "        '''\n",
    "        #store final data into any variable\n",
    "        Final_output = ''\n",
    "        #store output into dictionary\n",
    "        resp_data[\"Data\"] = Final_output\n",
    "    except Exception as e:\n",
    "        print('Exception as', e)\n",
    "        status = 400\n",
    "        message = 'Error'\n",
    "    #create combined data\n",
    "    content = {'message': message, 'data': resp_data}\n",
    "    #return final output of api using make_response\n",
    "    return make_response(status,content)"
   ]
  },
  {
   "cell_type": "code",
   "execution_count": null,
   "id": "d049b32c",
   "metadata": {},
   "outputs": [],
   "source": [
    "import requests\n",
    "my_lat=23.001320\n",
    "my_log=72.565740\n",
    "parameter={\n",
    "    \"lat\":my_lat,\n",
    "    \"lng\":my_log,\n",
    "    \n",
    "}\n",
    "response=requests.get('https://api.sunrise-sunset.org/json',params=parameter)\n",
    "data=response.json()\n",
    "status=data['status']\n",
    "print(data)\n",
    "print(status)"
   ]
  },
  {
   "cell_type": "code",
   "execution_count": null,
   "id": "101670e4",
   "metadata": {},
   "outputs": [],
   "source": [
    "import requests\n",
    "import time\n",
    "while True:\n",
    "    time.sleep(5)\n",
    "    response=requests.get('https://api.kanye.rest/')\n",
    "    data=response.json()\n",
    "    value=data['quote']\n",
    "    print(value)"
   ]
  },
  {
   "cell_type": "code",
   "execution_count": null,
   "id": "d21f8b67",
   "metadata": {},
   "outputs": [],
   "source": [
    "# Joining two functions if they are true.\n",
    "\n",
    "import time\n",
    "while True:\n",
    "    time.sleep()\n",
    "    def sid():\n",
    "        a=2\n",
    "        b=3\n",
    "        c=a+b\n",
    "        if c>3:\n",
    "            return True\n",
    "\n",
    "\n",
    "    def rajat():\n",
    "        a=2\n",
    "        b=3\n",
    "        c=a+b\n",
    "        if c>4:\n",
    "            return True\n",
    "\n",
    "    z=sid() and rajat()\n",
    "    if z:\n",
    "        print(\"And I learn to join the fucntion\")"
   ]
  },
  {
   "cell_type": "code",
   "execution_count": null,
   "id": "a45e6cc9",
   "metadata": {},
   "outputs": [],
   "source": [
    "# Project Day 3 Love Calculator\n",
    "print(\"Welcome TO  Love Calculator\")\n",
    "Girl=input(\"what is your name ? \\n\")\n",
    "Boy=input(\"what is your name ? \\n\")\n",
    "girl=Girl.lower()\n",
    "boy=Boy.lower()\n",
    "name=girl+boy\n",
    "print(name)\n",
    " \n"
   ]
  },
  {
   "cell_type": "code",
   "execution_count": null,
   "id": "aa9cfc3d",
   "metadata": {},
   "outputs": [],
   "source": [
    "def outer_function(a, b):\n",
    "    def inner_function(c, d):\n",
    "        return c + d\n",
    "    return inner_function(a, b)\n",
    " \n",
    "result = outer_function(5, 10)\n",
    "print(result)"
   ]
  },
  {
   "cell_type": "code",
   "execution_count": null,
   "id": "44316ba9",
   "metadata": {},
   "outputs": [],
   "source": [
    "# Project Day 3 Love Calculator\n",
    "print(\"Welcome TO  Love Calculator\")\n",
    "Girl=input(\"what is your name ? \\n\")\n",
    "Boy=input(\"what is your name ? \\n\")\n",
    "girl=Girl.lower()\n",
    "boy=Boy.lower()\n",
    "name=girl+boy\n",
    "T=name.count(\"t\")\n",
    "R=name.count(\"r\")\n",
    "U=name.count(\"u\")\n",
    "E=name.count(\"e\")\n",
    "true_sum=T+R+U+E\n",
    "# print(true_sum)\n",
    "L=name.count(\"L\")\n",
    "O=name.count(\"o\")\n",
    "V=name.count(\"v\")\n",
    "E=name.count(\"e\")\n",
    "love_sum=L+O+V+E\n",
    "# print(love_sum)\n",
    "score=str(true_sum)+str(love_sum)\n",
    "print(score)"
   ]
  },
  {
   "cell_type": "code",
   "execution_count": null,
   "id": "23f9e5cf",
   "metadata": {},
   "outputs": [],
   "source": [
    "import random\n",
    "A=random.randint(5,10)\n",
    "print(A)\n",
    "B=int(input(\"enter your number\"))\n",
    "c=0\n",
    "\n",
    "if A==B:\n",
    "    print(\"You guess right number in first attempt\")\n",
    "else:\n",
    "    while A!=B:\n",
    "\n",
    "        if A<B:\n",
    "            print(\"guess lower\")\n",
    "        elif A>B:\n",
    "            print(\"guess higher\")\n",
    "            print(\"A not equal to B Guess Again\")\n",
    "            B=int(input(\"enter your number\"))\n",
    "            c=c+1\n",
    "        \n",
    "    print(\"You guess right number\")     \n",
    "    print(f\"You have taken total {c} chances\")\n",
    "    \n",
    "    \n",
    "    "
   ]
  },
  {
   "cell_type": "code",
   "execution_count": null,
   "id": "99040ffb",
   "metadata": {},
   "outputs": [],
   "source": []
  },
  {
   "cell_type": "code",
   "execution_count": null,
   "id": "20d1db10",
   "metadata": {},
   "outputs": [],
   "source": [
    "# Number Guessing Project\n",
    "def guess_number():\n",
    "    import random\n",
    "    a=random.randint(5,10)\n",
    "#     print(a)\n",
    "    b=int(input(\"Enter your number \"))\n",
    "    c=0\n",
    "    while a!=b:\n",
    "        \n",
    "#         b=int(input(\"Enter your number \"))\n",
    "        if a<b:\n",
    "            print(\"Guess lower number\")\n",
    "            \n",
    "        else :\n",
    "            print(\"Guess higher number\")\n",
    "        b=int(input(\"Enter your number \"))\n",
    "        c=c+1\n",
    "        \n",
    "            \n",
    "        \n",
    "    print(f\"Your guess was right.You have taken total {c} attempts. \")\n",
    "       \n",
    "    \n",
    "    "
   ]
  },
  {
   "cell_type": "code",
   "execution_count": null,
   "id": "15626115",
   "metadata": {},
   "outputs": [],
   "source": [
    "guess_number()"
   ]
  },
  {
   "cell_type": "code",
   "execution_count": null,
   "id": "042978b8",
   "metadata": {},
   "outputs": [],
   "source": [
    "Email=input(\"email bolo\")\n",
    "password=input(\"Password Bolo\")\n",
    "\n",
    "if Email=='siddharth.vishen@e42.ai' and password == \"Siddharth\":\n",
    "    print('Welcome')\n",
    "elif Email == \"siddharth.vishen@e42.ai\" and password !=\"siddharth\":\n",
    "    Email=input(\"email bolo\")\n",
    "    password=input(\"Password Bolo\")\n",
    "    if Email=='siddharth.vishen@e42.ai' and password == \"Siddharth\":\n",
    "        print('Welcome')\n",
    "    else:\n",
    "        print('Acess Denied')\n",
    "else:\n",
    "    print('Acess Denied')"
   ]
  },
  {
   "cell_type": "code",
   "execution_count": null,
   "id": "5ea4f96a",
   "metadata": {},
   "outputs": [],
   "source": [
    "# Day 04\n",
    "#Who will pay the bill\n",
    "import random\n",
    "frnds=['amit','sid','Abhi']\n",
    "number=random.randint(0,2)\n",
    "\n",
    "bill_pay=frnds[number]\n",
    "print(f\"The bill will be paid by {bill_pay}\")"
   ]
  },
  {
   "cell_type": "code",
   "execution_count": null,
   "id": "fc1f39bb",
   "metadata": {},
   "outputs": [],
   "source": [
    "# Day 04\n",
    "#Who will pay the bill\n",
    "import random\n",
    "frnds=input(\"please enter your friends name with ,\")\n",
    "name=frnds.split(\",\")\n",
    "count=len(name)sid\n",
    "print(count)\n",
    "print(name)\n",
    "number=random.randint(0,count-1)\n",
    "\n",
    "bill_pay=name[number]\n",
    "print(f\"The bill will be paid by {bill_pay}\")"
   ]
  },
  {
   "cell_type": "code",
   "execution_count": null,
   "id": "0af99626",
   "metadata": {},
   "outputs": [],
   "source": [
    "# Treasure Island Game:\n",
    "\n",
    "row_1=['a','b','c']\n",
    "row_2=['d','e','f']\n",
    "row_3=['g','h','i']\n",
    "number=input(\"enter the number\")\n",
    "numb=list(str(number))\n",
    "number_1=numb[0]\n",
    "number_2=numb[1]\n",
    "number_22=int(number_1)\n",
    "print(number_1)\n",
    "print(number_2)\n",
    "# number_2=list_name\n",
    "#number_1=list_index\n",
    "data='a'\n",
    "if number_2 =='1':\n",
    "    data=row_1\n",
    "elif number_2 =='2':\n",
    "    data=row_2\n",
    "elif number_2 =='3':\n",
    "    data=row_3\n",
    "\n",
    "value=data[number_22]\n",
    "print(value)"
   ]
  },
  {
   "cell_type": "code",
   "execution_count": null,
   "id": "70d97ea4",
   "metadata": {},
   "outputs": [],
   "source": [
    "a=[1,2,3,4]\n",
    "s=a[0]\n",
    "print(s)"
   ]
  },
  {
   "cell_type": "code",
   "execution_count": null,
   "id": "fbedf923",
   "metadata": {},
   "outputs": [],
   "source": [
    "# rock paper scissor game\n",
    "import random\n",
    "a=['rock','paper','scissor']\n",
    "user_input=input(\"choose rock paper and scisssor \")\n",
    "computer_choice=random.randint(0,2)\n",
    "print(computer_choice)\n",
    "digital=a[computer_choice]\n",
    "print(digital)\n",
    "print(user_input)\n",
    "if user_input == 'scissor' and digital == 'scissor':\n",
    "    print(\"its draw\")\n",
    "elif user_input == 'rock' and digital == 'rock':\n",
    "    print(\"its draw\")\n",
    "elif user_input == 'paper' and digital == 'paper':\n",
    "    print(\"its draw\")\n",
    "elif user_input == 'rock' and digital == 'scissor':\n",
    "    print(\"user wins\")\n",
    "elif user_input == 'scissor' and digital == 'rock':\n",
    "    print(\"computer wins\")\n",
    "elif user_input == 'paper' and digital == 'rock': \n",
    "    print('user wins')\n",
    "elif user_input == 'rock' and digital == 'paper':\n",
    "    print('computer wins')\n",
    "    \n",
    "    \n",
    "    "
   ]
  },
  {
   "cell_type": "code",
   "execution_count": null,
   "id": "29995255",
   "metadata": {},
   "outputs": [],
   "source": [
    "# Day 5 Started"
   ]
  },
  {
   "cell_type": "code",
   "execution_count": null,
   "id": "523172de",
   "metadata": {},
   "outputs": [],
   "source": [
    "fruits=['apple','grapes','mango']"
   ]
  },
  {
   "cell_type": "code",
   "execution_count": null,
   "id": "93b6da98",
   "metadata": {},
   "outputs": [],
   "source": [
    "for i in fruits:\n",
    "    print(i)"
   ]
  },
  {
   "cell_type": "code",
   "execution_count": null,
   "id": "92399c3a",
   "metadata": {},
   "outputs": [],
   "source": [
    "user_height=input(\"input heights using  (,)\")\n",
    "total_height=user_height.split()\n",
    "for i in range(0,len(total_height)):\n",
    "    total_height[i]=int(total_height[i])\n",
    "    \n",
    "print(total_height)\n",
    "a=0\n",
    "i=0\n",
    "for n in total_height:\n",
    "    a=a+n\n",
    "    i=i+1\n",
    "    print(a)\n",
    "    print(i)\n",
    "\n",
    "average=a/i\n",
    "print(average)\n",
    "    "
   ]
  },
  {
   "cell_type": "code",
   "execution_count": null,
   "id": "1bd7477b",
   "metadata": {},
   "outputs": [],
   "source": [
    "user_score=input(\"input score using  (,)\")\n",
    "total_score=user_score.split()\n",
    "for i in range(0,len(total_score)):\n",
    "    total_score[i]=int(total_score[i])\n",
    "i=0\n",
    "for n in total_score:\n",
    "    if n>i:\n",
    "        i=n\n",
    "print(i)\n",
    "    \n",
    "    \n",
    "    \n",
    "   \n",
    "print(total_score)"
   ]
  },
  {
   "cell_type": "code",
   "execution_count": null,
   "id": "0080d59b",
   "metadata": {},
   "outputs": [],
   "source": [
    "i=0\n",
    "for n in range(1,10):\n",
    "    i=i+n\n",
    "print(i)\n",
    "\n"
   ]
  },
  {
   "cell_type": "code",
   "execution_count": null,
   "id": "e83da361",
   "metadata": {},
   "outputs": [],
   "source": [
    "n=0\n",
    "for i in range(1,101):\n",
    "    if i%2==0:\n",
    "        n=n+i\n",
    "print(n)\n",
    "        \n",
    "        \n"
   ]
  },
  {
   "cell_type": "code",
   "execution_count": null,
   "id": "6aa082fc",
   "metadata": {},
   "outputs": [],
   "source": [
    "for i in range(1,101):\n",
    "    if i%3==0 and i%5==0:\n",
    "        print('fizzBuzz')\n",
    "           \n",
    "    elif i%5==0:\n",
    "        print('Buzz')\n",
    "    elif i%3==0:\n",
    "        print('fizz')\n",
    "    else:\n",
    "        print(i)\n",
    "        \n",
    "    \n",
    "    "
   ]
  },
  {
   "cell_type": "code",
   "execution_count": null,
   "id": "455bcdc2",
   "metadata": {},
   "outputs": [],
   "source": [
    "# Random Password Generator:\n",
    "numbers=['z','d',\"k\",\"i\",\"e\",\"o\",\"y\",\"t\"]\n",
    "letters=['1','2','3','4','5']\n",
    "symbols=['@',\"#\",\"$\",\"%\",\"^\"]\n",
    "user_letter=int(input(\"enter number of letter\"))\n",
    "user_number=int(input(\"enter number of numericals\"))\n",
    "user_symbol=int(input(\"enter number of symbols\"))\n",
    "import random\n",
    "password=[]\n",
    "for i in range(0,user_letter):\n",
    "         number=random.choice(numbers)\n",
    "         password.append(number)\n",
    "for i in range(0,user_number):\n",
    "         number=random.choice(letters)\n",
    "         password.append(number)\n",
    "for i in range(0,user_symbol):\n",
    "         number=random.choice(symbols)\n",
    "         password.append(number)\n",
    "\n",
    "password=\" \".join(password ) \n",
    "print(password)\n",
    "         "
   ]
  },
  {
   "cell_type": "code",
   "execution_count": null,
   "id": "5f0d8ffc",
   "metadata": {},
   "outputs": [],
   "source": [
    "import random\n",
    "numbers=['z','d',\"k\",\"i\",\"e\",\"o\",\"y\",\"t\"]\n",
    "numbers2=random.choice(numbers)\n",
    "print(numbers2)"
   ]
  },
  {
   "cell_type": "code",
   "execution_count": 1,
   "id": "f17a985d",
   "metadata": {},
   "outputs": [
    {
     "ename": "KeyboardInterrupt",
     "evalue": "",
     "output_type": "error",
     "traceback": [
      "\u001b[1;31m---------------------------------------------------------------------------\u001b[0m",
      "\u001b[1;31mKeyboardInterrupt\u001b[0m                         Traceback (most recent call last)",
      "\u001b[1;32m~\\AppData\\Local\\Temp\\ipykernel_24368\\329455763.py\u001b[0m in \u001b[0;36m<module>\u001b[1;34m\u001b[0m\n\u001b[0;32m      1\u001b[0m \u001b[0ma\u001b[0m\u001b[1;33m=\u001b[0m\u001b[1;36m0\u001b[0m\u001b[1;33m\u001b[0m\u001b[1;33m\u001b[0m\u001b[0m\n\u001b[0;32m      2\u001b[0m \u001b[1;32mwhile\u001b[0m \u001b[0ma\u001b[0m\u001b[1;33m<\u001b[0m\u001b[1;36m10\u001b[0m\u001b[1;33m:\u001b[0m\u001b[1;33m\u001b[0m\u001b[1;33m\u001b[0m\u001b[0m\n\u001b[1;32m----> 3\u001b[1;33m     \u001b[1;32mdef\u001b[0m \u001b[0mdemo\u001b[0m\u001b[1;33m(\u001b[0m\u001b[1;33m)\u001b[0m\u001b[1;33m:\u001b[0m\u001b[1;33m\u001b[0m\u001b[1;33m\u001b[0m\u001b[0m\n\u001b[0m\u001b[0;32m      4\u001b[0m         \u001b[0mprint\u001b[0m\u001b[1;33m(\u001b[0m\u001b[1;34m\"I will suceed for sure\"\u001b[0m\u001b[1;33m)\u001b[0m\u001b[1;33m\u001b[0m\u001b[1;33m\u001b[0m\u001b[0m\n\u001b[0;32m      5\u001b[0m         \u001b[0ma\u001b[0m\u001b[1;33m=\u001b[0m\u001b[0ma\u001b[0m\u001b[1;33m+\u001b[0m\u001b[1;36m1\u001b[0m\u001b[1;33m\u001b[0m\u001b[1;33m\u001b[0m\u001b[0m\n",
      "\u001b[1;31mKeyboardInterrupt\u001b[0m: "
     ]
    }
   ],
   "source": [
    "a=0\n",
    "while a<10:\n",
    "    def demo():\n",
    "        print(\"I will suceed for sure\")\n",
    "        a=a+1\n",
    "    "
   ]
  },
  {
   "cell_type": "code",
   "execution_count": 6,
   "id": "b0dc3110",
   "metadata": {},
   "outputs": [
    {
     "name": "stdout",
     "output_type": "stream",
     "text": [
      "I will suceed\n",
      "I will suceed\n",
      "I will suceed\n",
      "I will suceed\n",
      "I will suceed\n",
      "I will suceed\n",
      "I will suceed\n",
      "I will suceed\n",
      "I will suceed\n",
      "I will suceed\n"
     ]
    }
   ],
   "source": [
    "def demo():\n",
    "    print('I will suceed')\n",
    "a=0\n",
    "while a<10:\n",
    "    demo()\n",
    "    a=a+1\n",
    "    "
   ]
  },
  {
   "cell_type": "code",
   "execution_count": 5,
   "id": "45cf78a8",
   "metadata": {},
   "outputs": [
    {
     "name": "stdout",
     "output_type": "stream",
     "text": [
      "I will suceed\n"
     ]
    }
   ],
   "source": [
    "demo()"
   ]
  },
  {
   "cell_type": "code",
   "execution_count": null,
   "id": "85794d0a",
   "metadata": {},
   "outputs": [],
   "source": []
  }
 ],
 "metadata": {
  "kernelspec": {
   "display_name": "Python 3 (ipykernel)",
   "language": "python",
   "name": "python3"
  },
  "language_info": {
   "codemirror_mode": {
    "name": "ipython",
    "version": 3
   },
   "file_extension": ".py",
   "mimetype": "text/x-python",
   "name": "python",
   "nbconvert_exporter": "python",
   "pygments_lexer": "ipython3",
   "version": "3.9.13"
  }
 },
 "nbformat": 4,
 "nbformat_minor": 5
}
